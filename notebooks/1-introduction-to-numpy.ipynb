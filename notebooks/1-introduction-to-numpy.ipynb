{
 "cells": [
  {
   "cell_type": "markdown",
   "metadata": {},
   "source": [
    "Introduction to NumPy\n",
    "==="
   ]
  },
  {
   "cell_type": "markdown",
   "metadata": {},
   "source": [
    "## Arrays\n",
    "A numpy array is a grid of values, all of the same type, and is indexed by a tuple of nonnegative integers. The number of dimensions is the rank of the array; the shape of an array is a tuple of integers giving the size of the array along each dimension.\n",
    "\n",
    "We can initialize numpy arrays from nested Python lists, and access elements using square brackets:"
   ]
  },
  {
   "cell_type": "code",
   "execution_count": 5,
   "metadata": {},
   "outputs": [
    {
     "name": "stdout",
     "output_type": "stream",
     "text": [
      "Vector a:\n",
      " [1 2 3]\n",
      "variable type <class 'numpy.ndarray'>\n",
      "shape: (3,)\n",
      "1 2 3\n",
      "Matrix b:\n",
      " [[1 2 3]\n",
      " [4 5 6]]\n",
      "shape: (2, 3)\n",
      "1 2 4\n"
     ]
    }
   ],
   "source": [
    "import numpy as np\n",
    "\n",
    "a = np.array([1, 2, 3])   # Create a rank 1 array\n",
    "print('Vector a:\\n', a)\n",
    "print('variable type', type(a)) # Prints \"<class 'numpy.ndarray'>\"\n",
    "print('shape:', a.shape)        # Prints \"(3,)\"\n",
    "print(a[0], a[1], a[2])         # Prints \"1 2 3\"\n",
    "a[0] = 5                        # Change an element of the array\n",
    "\n",
    "b = np.array([[1, 2, 3], [4, 5, 6]])    # Create a rank 2 array\n",
    "print('Matrix b:\\n', b)\n",
    "print('shape:', b.shape)                # Prints \"(2, 3)\"\n",
    "print(b[0, 0], b[0, 1], b[1, 0])   # Prints \"1 2 4\""
   ]
  },
  {
   "cell_type": "markdown",
   "metadata": {},
   "source": [
    "If you want to change the shape of the ndarray"
   ]
  },
  {
   "cell_type": "code",
   "execution_count": 10,
   "metadata": {},
   "outputs": [
    {
     "name": "stdout",
     "output_type": "stream",
     "text": [
      "Matrix b:\n",
      " [[1 2 3]\n",
      " [4 5 6]]\n",
      "shape: (2, 3)\n",
      "Matrix b:\n",
      " [[1 2]\n",
      " [3 4]\n",
      " [5 6]]\n"
     ]
    }
   ],
   "source": [
    "print('Matrix b:\\n', b)\n",
    "print('shape:', b.shape)\n",
    "c = b.reshape((3, 2))\n",
    "print('Matrix c:\\n', c)"
   ]
  },
  {
   "cell_type": "markdown",
   "metadata": {},
   "source": [
    "Numpy also provides many functions to create arrays:"
   ]
  },
  {
   "cell_type": "code",
   "execution_count": 33,
   "metadata": {},
   "outputs": [
    {
     "name": "stdout",
     "output_type": "stream",
     "text": [
      "a = [[0. 0.]\n",
      " [0. 0.]]\n",
      "b = [[1. 1.]]\n",
      "c = [[7 7]\n",
      " [7 7]]\n",
      "d = [[1. 0.]\n",
      " [0. 1.]]\n",
      "e = [[0.51055742 0.33174052]\n",
      " [0.64513607 0.25657699]]\n",
      "f = [0 1 2 3 4 5]\n",
      "g = [[0 1]\n",
      " [2 3]\n",
      " [4 5]]\n"
     ]
    }
   ],
   "source": [
    "a = np.zeros((2, 2))   # Create an array of all zeros\n",
    "print('a =', a)        # Prints \"[[ 0.  0.]\n",
    "                       #          [ 0.  0.]]\"\n",
    "\n",
    "b = np.ones((1, 2))    # Create an array of all ones\n",
    "print('b =', b)        # Prints \"[[ 1.  1.]]\"\n",
    "\n",
    "c = np.full((2, 2), 7)  # Create a constant array\n",
    "print('c =', c)         # Prints \"[[ 7.  7.]\n",
    "                        #          [ 7.  7.]]\"\n",
    "\n",
    "d = np.eye(2)         # Create a 2x2 identity matrix\n",
    "print('d =', d)       # Prints \"[[ 1.  0.]\n",
    "                      #          [ 0.  1.]]\"\n",
    "\n",
    "e = np.random.random((2, 2))  # Create an array filled with random values\n",
    "print('e =', e)               # Might print \"[[ 0.91940167  0.08143941]\n",
    "                              #               [ 0.68744134  0.87236687]]\"\n",
    "    \n",
    "f = np.arange(6)            # Creates a range from 0 to 5 (a range with 6 elemets)\n",
    "print('f =', f)\n",
    "\n",
    "g = f.reshape((3, 2))       # Reshaping the array into a matrix of size (2,3)\n",
    "print('g =', g)"
   ]
  },
  {
   "cell_type": "markdown",
   "metadata": {},
   "source": [
    "*Note*: Regarding the shape of 1D ndarray it's shape is written as (n, ). It is fine to work with this array normally however for application that require clear distinction of the shape it is critical to watch out from this kind of arrays.Best example is matrix operation"
   ]
  },
  {
   "cell_type": "code",
   "execution_count": 36,
   "metadata": {},
   "outputs": [
    {
     "name": "stdout",
     "output_type": "stream",
     "text": [
      "x: [0 1 2]\n",
      "y: [[0]\n",
      " [1]\n",
      " [2]]\n",
      "z: [[0 1 2]]\n"
     ]
    }
   ],
   "source": [
    "x = np.arange(3)\n",
    "# Notice the shape of x, now x can't be called as a row vector or column vector\n",
    "x.shape\n",
    "y = x.reshape((3, 1))\n",
    "z = x.reshape((1, 3))\n",
    "print('x:', x)\n",
    "print('y:', y)\n",
    "print('z:', z)\n",
    "# This is very important when using linear algebra operations"
   ]
  },
  {
   "cell_type": "markdown",
   "metadata": {},
   "source": [
    "## Array Indexing"
   ]
  },
  {
   "cell_type": "code",
   "execution_count": 37,
   "metadata": {},
   "outputs": [
    {
     "name": "stdout",
     "output_type": "stream",
     "text": [
      "2\n",
      "77\n"
     ]
    }
   ],
   "source": [
    "# Create the following rank 2 array with shape (3, 4)\n",
    "# [[ 1  2  3  4]\n",
    "#  [ 5  6  7  8]\n",
    "#  [ 9 10 11 12]]\n",
    "a = np.array([[1, 2, 3, 4], [5, 6, 7, 8], [9, 10, 11, 12]])\n",
    "\n",
    "# Use slicing to pull out the subarray consisting of the first 2 rows\n",
    "# and columns 1 and 2; b is the following array of shape (2, 2):\n",
    "# [[2 3]\n",
    "#  [6 7]]\n",
    "b = a[:2, 1:3]\n",
    "\n",
    "# A slice of an array is a view into the same data, so modifying it\n",
    "# will modify the original array.\n",
    "print(a[0, 1])   # Prints \"2\"\n",
    "b[0, 0] = 77     # b[0, 0] is the same piece of data as a[0, 1]\n",
    "print(a[0, 1])   # Prints \"77\""
   ]
  },
  {
   "cell_type": "markdown",
   "metadata": {},
   "source": [
    "## Array Data Types"
   ]
  },
  {
   "cell_type": "code",
   "execution_count": 38,
   "metadata": {},
   "outputs": [
    {
     "name": "stdout",
     "output_type": "stream",
     "text": [
      "int32\n",
      "float64\n",
      "int64\n"
     ]
    }
   ],
   "source": [
    "x = np.array([1, 2])   # Let numpy choose the datatype\n",
    "print(x.dtype)         # Prints \"int64\"\n",
    "\n",
    "x = np.array([1.0, 2.0])   # Let numpy choose the datatype\n",
    "print(x.dtype)             # Prints \"float64\"\n",
    "\n",
    "x = np.array([1, 2], dtype=np.int64)   # Force a particular datatype\n",
    "print(x.dtype)                         # Prints \"int64\""
   ]
  },
  {
   "cell_type": "markdown",
   "metadata": {},
   "source": [
    "## Operations"
   ]
  },
  {
   "cell_type": "code",
   "execution_count": 42,
   "metadata": {},
   "outputs": [
    {
     "name": "stdout",
     "output_type": "stream",
     "text": [
      "x + y = [[ 6.  8. 10.]\n",
      " [12. 14. 16.]]\n",
      "x + y = [[ 6.  8. 10.]\n",
      " [12. 14. 16.]]\n",
      "x - y = [[-4. -4. -4.]\n",
      " [-4. -4. -4.]]\n",
      "x - y = [[-4. -4. -4.]\n",
      " [-4. -4. -4.]]\n",
      "x * y = [[ 5. 12. 21.]\n",
      " [32. 45. 60.]]\n",
      "x * y = [[ 5. 12. 21.]\n",
      " [32. 45. 60.]]\n",
      "x / y = [[0.2        0.33333333 0.42857143]\n",
      " [0.5        0.55555556 0.6       ]]\n",
      "x / y = [[0.2        0.33333333 0.42857143]\n",
      " [0.5        0.55555556 0.6       ]]\n",
      "square root x = [[1.         1.41421356 1.73205081]\n",
      " [2.         2.23606798 2.44948974]]\n",
      "index of max elemet in x=  5\n",
      "index of max elemet in axis 1 of x=  [2 2]\n",
      "index of max elemet in axis 0 of x=  [1 1 1]\n"
     ]
    }
   ],
   "source": [
    "x = np.array([[1, 2, 3], [4, 5, 6]], dtype=np.float64)\n",
    "y = np.array([[5, 6, 7], [8, 9, 10]], dtype=np.float64)\n",
    "# Elementwise sum; both produce the array\n",
    "print('x + y =', x + y)\n",
    "print('x + y =', np.add(x, y))\n",
    "\n",
    "# Elementwise difference; both produce the array\n",
    "print('x - y =', x - y)\n",
    "print('x - y =', np.subtract(x, y))\n",
    "\n",
    "# Elementwise product; both produce the array\n",
    "print('x * y =', x * y)\n",
    "print('x * y =', np.multiply(x, y))\n",
    "\n",
    "# Elementwise division; both produce the array\n",
    "print('x / y =', x / y)\n",
    "print('x / y =', np.divide(x, y))\n",
    "\n",
    "# Elementwise square root; produces the array\n",
    "print('square root x =', np.sqrt(x))\n",
    "\n",
    "# Return the array index of the maximum value\n",
    "print('index of max elemet in x= ', np.argmax(x))\n",
    "\n",
    "# Return the array indices of the maximum values per row\n",
    "print('index of max elemet in axis 1 of x= ', np.argmax(x, axis=1))\n",
    "\n",
    "# Return the array indices of the maximum values per column\n",
    "print('index of max elemet in axis 0 of x= ', np.argmax(x, axis=0))"
   ]
  },
  {
   "cell_type": "markdown",
   "metadata": {},
   "source": [
    "Note that unlike MATLAB, `*` is elementwise multiplication, not matrix multiplication. We instead use the `dot` function to compute inner products of vectors, to multiply a vector by a matrix, and to multiply matrices. `dot` is available both as a function in the numpy module and as an instance method of array objects:"
   ]
  },
  {
   "cell_type": "code",
   "execution_count": 43,
   "metadata": {},
   "outputs": [
    {
     "name": "stdout",
     "output_type": "stream",
     "text": [
      "[[0 1]\n",
      " [2 3]\n",
      " [4 5]\n",
      " [6 7]\n",
      " [8 9]]\n"
     ]
    },
    {
     "data": {
      "text/plain": [
       "array([20, 25])"
      ]
     },
     "execution_count": 43,
     "metadata": {},
     "output_type": "execute_result"
    }
   ],
   "source": [
    "x = np.arange(10).reshape((5, 2))\n",
    "print(x)\n",
    "x.sum(axis=0)"
   ]
  },
  {
   "cell_type": "code",
   "execution_count": 44,
   "metadata": {},
   "outputs": [
    {
     "name": "stdout",
     "output_type": "stream",
     "text": [
      "v.w =  392\n",
      "v.w =  392\n",
      "x.v =  [ 62 152]\n",
      "x.v =  [ 62 152]\n",
      "x.y =  [[ 38  56]\n",
      " [ 92 137]]\n",
      "x.y =  [[ 38  56]\n",
      " [ 92 137]]\n"
     ]
    }
   ],
   "source": [
    "x = np.array([[1, 2, 3], [4, 5, 6]])\n",
    "y = np.array([[5, 6, 7], [8, 9, 10]])\n",
    "\n",
    "v = np.array([9, 10, 11])\n",
    "w = np.array([12, 13, 14])\n",
    "\n",
    "# Inner product of vectors; both produce 392\n",
    "print('v.w = ', v.dot(w))\n",
    "print('v.w = ', np.dot(v, w))\n",
    "\n",
    "# Matrix / vector product; both produce the rank 1 array [62 152]\n",
    "print('x.v = ', x.dot(v))\n",
    "print('x.v = ', np.dot(x, v))\n",
    "\n",
    "# Matrix / matrix product; both produce the rank 2 array\n",
    "# [[19 22]\n",
    "#  [43 50]]\n",
    "print('x.y = ', x.dot(y.T))\n",
    "print('x.y = ', np.dot(x, y.T))"
   ]
  },
  {
   "cell_type": "markdown",
   "metadata": {},
   "source": [
    "NumPy provides many useful functions for performing computations on arrays; one of the most useful is `sum`:"
   ]
  },
  {
   "cell_type": "code",
   "execution_count": 45,
   "metadata": {},
   "outputs": [
    {
     "name": "stdout",
     "output_type": "stream",
     "text": [
      "10\n",
      "[4 6]\n",
      "[3 7]\n"
     ]
    }
   ],
   "source": [
    "x = np.array([[1, 2],[3, 4]])\n",
    "\n",
    "print(np.sum(x))  # Compute sum of all elements; prints \"10\"\n",
    "print(np.sum(x, axis=0))  # Compute sum of each column; prints \"[4 6]\"\n",
    "print(np.sum(x, axis=1))  # Compute sum of each row; prints \"[3 7]\""
   ]
  },
  {
   "cell_type": "markdown",
   "metadata": {},
   "source": [
    "## Iteration\n",
    "\n",
    "To iterate over NumPy arrays, do so as if iterating over a list"
   ]
  },
  {
   "cell_type": "code",
   "execution_count": 46,
   "metadata": {},
   "outputs": [
    {
     "name": "stdout",
     "output_type": "stream",
     "text": [
      "1\n",
      "4\n",
      "5\n",
      "10\n",
      "12\n",
      "15\n"
     ]
    }
   ],
   "source": [
    "a = np.array([1, 4, 5, 10, 12, 15], int)\n",
    "\n",
    "for number in a:\n",
    "    print(number)"
   ]
  },
  {
   "cell_type": "markdown",
   "metadata": {},
   "source": [
    "## Logical Operators\n",
    "The output of these operations can be called mask."
   ]
  },
  {
   "cell_type": "code",
   "execution_count": 48,
   "metadata": {},
   "outputs": [
    {
     "name": "stdout",
     "output_type": "stream",
     "text": [
      "a: [5 9 8 1 6]\n",
      "b: [8 5 0 0 5]\n",
      "a > b  [False  True  True  True  True]\n",
      "a < b  [ True False False False False]\n",
      "a == b  [False False False False False]\n",
      "a >= b  [False  True  True  True  True]\n",
      "a <= b  [ True False False False False]\n",
      "a != b  [ True  True  True  True  True]\n"
     ]
    }
   ],
   "source": [
    "# Create arrays with random integer values\n",
    "a = np.random.randint(10, size=(5))\n",
    "b = np.random.randint(10, size=(5))\n",
    "\n",
    "print('a:', a)\n",
    "print('b:', b)\n",
    "print('a > b ', a > b)\n",
    "print('a < b ', a < b)\n",
    "print('a == b ', a == b)\n",
    "print('a >= b ', a >= b)\n",
    "print('a <= b ', a <= b)\n",
    "print('a != b ', a != b)\n"
   ]
  },
  {
   "cell_type": "markdown",
   "metadata": {},
   "source": [
    "You can mix multiple rational operations together using bitwise operations"
   ]
  },
  {
   "cell_type": "code",
   "execution_count": 56,
   "metadata": {},
   "outputs": [
    {
     "name": "stdout",
     "output_type": "stream",
     "text": [
      "a:  [5 9 8 1 6]\n",
      "a > 5  [False  True  True False  True]\n",
      "a < 9  [ True False  True  True  True]\n",
      "(a > 5) & (a < 9) [False False  True False  True]\n",
      "(a > 5) | (a < 9) [ True  True  True  True  True]\n"
     ]
    }
   ],
   "source": [
    "print('a: ', a)\n",
    "print('a > 5 ', a > 5)\n",
    "print('a < 9 ', a < 9)\n",
    "print('(a > 5) & (a < 9)', (a > 5) & (a < 9)) # condition 1 and condition 2\n",
    "print('(a > 5) | (a < 9)', (a > 5) | (a < 9)) # condition 1 or condition 2"
   ]
  },
  {
   "cell_type": "code",
   "execution_count": null,
   "metadata": {},
   "outputs": [],
   "source": []
  }
 ],
 "metadata": {
  "kernelspec": {
   "display_name": "Python 3",
   "language": "python",
   "name": "python3"
  },
  "language_info": {
   "codemirror_mode": {
    "name": "ipython",
    "version": 3
   },
   "file_extension": ".py",
   "mimetype": "text/x-python",
   "name": "python",
   "nbconvert_exporter": "python",
   "pygments_lexer": "ipython3",
   "version": "3.7.3"
  }
 },
 "nbformat": 4,
 "nbformat_minor": 2
}
